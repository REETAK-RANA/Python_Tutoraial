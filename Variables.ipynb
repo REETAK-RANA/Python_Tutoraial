{
 "cells": [
  {
   "cell_type": "markdown",
   "id": "4f66a5f6-ac80-45c3-a322-e64822dca67d",
   "metadata": {},
   "source": [
    "## VARIABLES :\n",
    "     \n",
    "     Variables is a name given to a storage location that stores data .\n",
    "     \n",
    "     Key Points:\n",
    "            1. Dynamic Typing: Variables in Python can hold values of any data type, and the type can change during execution.\n",
    "            2.Assignment: Variables are created when you assign a value to them using the = operator.\n",
    "            3.Variables do not need to be declared with any particular type, and can even change type after they have been set.\n",
    "\n",
    "    Variables make it easy to store, retrieve, and manipulate data in Python programs.\n",
    "     "
   ]
  },
  {
   "cell_type": "code",
   "execution_count": 15,
   "id": "461ce27e-e748-4eeb-9ccf-1f69a395db21",
   "metadata": {},
   "outputs": [
    {
     "name": "stdout",
     "output_type": "stream",
     "text": [
      "5\n",
      "delta\n"
     ]
    }
   ],
   "source": [
    "x = 5\n",
    "y = \"delta\"\n",
    "print(x)\n",
    "print(y)"
   ]
  },
  {
   "cell_type": "code",
   "execution_count": 17,
   "id": "286e9c7e-0fe5-4281-99c4-54e8f0cc5ca4",
   "metadata": {},
   "outputs": [
    {
     "name": "stdout",
     "output_type": "stream",
     "text": [
      "<class 'int'>\n",
      "<class 'str'>\n"
     ]
    }
   ],
   "source": [
    "x=5\n",
    "y='delta'\n",
    "print(type(x))\n",
    "print(type(y))"
   ]
  },
  {
   "cell_type": "markdown",
   "id": "aff8d56b-a863-4fed-b32c-87615420e9e6",
   "metadata": {},
   "source": [
    "## Variables  Names :\n",
    "    A variable can have a short name (like x and y) or a more descriptive name (age, carname, total_volume).\n",
    "\n",
    "    Rules for Python variables:\n",
    "\n",
    "                             1.A variable name must start with a letter or the underscore character\n",
    "                             2.A variable name cannot start with a number\n",
    "                             3.A variable name can only contain alpha-numeric characters and underscores (A-z, 0-9, and _ )\n",
    "                             4.Variable names are case-sensitive (age, Age and AGE are three different variables)\n",
    "                             5.A variable name cannot be any of the Python keywords"
   ]
  },
  {
   "cell_type": "code",
   "execution_count": 8,
   "id": "83aad339-2775-4bed-b038-9de279ce8265",
   "metadata": {},
   "outputs": [
    {
     "name": "stdout",
     "output_type": "stream",
     "text": [
      "<class 'int'>\n",
      "<class 'float'>\n",
      "<class 'str'>\n"
     ]
    }
   ],
   "source": [
    "x=5  # type \n",
    "y=0.5\n",
    "z='delta'\n",
    "print(type(x))\n",
    "print(type(y))\n",
    "print(type(z))"
   ]
  },
  {
   "cell_type": "code",
   "execution_count": 23,
   "id": "e5073c8d-7c25-49d0-a2ee-9732a0c95002",
   "metadata": {},
   "outputs": [
    {
     "name": "stdout",
     "output_type": "stream",
     "text": [
      "<class 'str'>\n",
      "1726243221264\n",
      "reetakrana65\n"
     ]
    }
   ],
   "source": [
    "a,b,c=\"reetak\",\"rana\",\"65\"\n",
    "print(type(b))\n",
    "print(id(b))\n",
    "print(a+b+c)"
   ]
  },
  {
   "cell_type": "code",
   "execution_count": 24,
   "id": "12ea2f31-ec62-4887-aefc-620896bee578",
   "metadata": {},
   "outputs": [
    {
     "name": "stdout",
     "output_type": "stream",
     "text": [
      "140708452322280\n",
      "140708452323016\n"
     ]
    }
   ],
   "source": [
    "a=67\n",
    "b=90\n",
    "print(id(a))\n",
    "print(id(b))"
   ]
  },
  {
   "cell_type": "code",
   "execution_count": 26,
   "id": "acb5ccb9-5dc0-4dd1-b348-ec7b99b48825",
   "metadata": {},
   "outputs": [
    {
     "name": "stdout",
     "output_type": "stream",
     "text": [
      "140708452322984\n",
      "140708452322952\n",
      "177\n"
     ]
    }
   ],
   "source": [
    "a=89\n",
    "print(id(a))\n",
    "b=88\n",
    "print(id(b))\n",
    "print(a+b)"
   ]
  },
  {
   "cell_type": "code",
   "execution_count": 7,
   "id": "09764dcd-ae4b-45f3-8438-cccd0df4b0df",
   "metadata": {},
   "outputs": [
    {
     "name": "stdout",
     "output_type": "stream",
     "text": [
      "hello\n",
      "HELLO\n"
     ]
    }
   ],
   "source": [
    "a='hello'  # uppercase\n",
    "print(a)\n",
    "b=a.upper()\n",
    "print(b)"
   ]
  },
  {
   "cell_type": "code",
   "execution_count": 28,
   "id": "3f03431a-14d3-4902-9d43-79cd860f7c20",
   "metadata": {},
   "outputs": [
    {
     "name": "stdout",
     "output_type": "stream",
     "text": [
      " I am learning Python !\n"
     ]
    }
   ],
   "source": [
    "x = \" I am learning Python !\"\n",
    "print(x)"
   ]
  },
  {
   "cell_type": "code",
   "execution_count": 6,
   "id": "6be8eafa-7a32-4c9d-b5eb-8241358d8e93",
   "metadata": {},
   "outputs": [
    {
     "name": "stdout",
     "output_type": "stream",
     "text": [
      "hello\n"
     ]
    }
   ],
   "source": [
    "a='HELLO'  # lowercse\n",
    "b=a.lower()\n",
    "print(b)\n"
   ]
  },
  {
   "cell_type": "code",
   "execution_count": 1,
   "id": "1c074141-5472-4c1b-9e88-d03848c639ee",
   "metadata": {},
   "outputs": [
    {
     "name": "stdout",
     "output_type": "stream",
     "text": [
      "<class 'int'>\n",
      "15\n"
     ]
    }
   ],
   "source": [
    "x = 7\n",
    "print(type(x))\n",
    "y = 8\n",
    "print(x+y)"
   ]
  },
  {
   "cell_type": "code",
   "execution_count": 4,
   "id": "371c8be4-7f74-474a-8178-19bb99100d77",
   "metadata": {},
   "outputs": [
    {
     "name": "stdout",
     "output_type": "stream",
     "text": [
      "145\n",
      "I m' learning python\n"
     ]
    }
   ],
   "source": [
    "x = \"I \"\n",
    "y = \"m' \"  \n",
    "z = \"learning python\"\n",
    "n =56\n",
    "i=89\n",
    "print(n+i)\n",
    "print(x+y+z)"
   ]
  },
  {
   "cell_type": "code",
   "execution_count": 5,
   "id": "a3066dd9-7442-4cd1-8cd5-a56781767eb1",
   "metadata": {},
   "outputs": [
    {
     "name": "stdout",
     "output_type": "stream",
     "text": [
      "2468921337792\n",
      "2468921337792\n",
      "car\n",
      "car\n",
      "car\n"
     ]
    }
   ],
   "source": [
    "x = y = z = \"car\"  #One Value to Multiple Variables\n",
    "print(id(y))\n",
    "print(id(z))\n",
    "print(x)\n",
    "print(y)\n",
    "print(z)"
   ]
  },
  {
   "cell_type": "markdown",
   "id": "b528c2c1-200f-4ce8-a4e7-19748c473607",
   "metadata": {},
   "source": [
    "## Keyword in python \n",
    "               - Keywords in Python are reserved words that have a special meaning and cannot be used as variables, functions or any other identifier names. Some  common keywords in Python include \"if\", \"else\", \"for\", \"while\", \"def\", \"import\", \"in\", \"not\", \"and\", \"or\", etc. These keywords help to structure and define the logic of a program .\n",
    "\n",
    " * there are 35 keywords in python ."
   ]
  },
  {
   "cell_type": "code",
   "execution_count": 9,
   "id": "0d8eed9e-542c-4580-8f64-4dc25af16d0f",
   "metadata": {},
   "outputs": [
    {
     "name": "stdout",
     "output_type": "stream",
     "text": [
      "['False', 'None', 'True', 'and', 'as', 'assert', 'async', 'await', 'break', 'class', 'continue', 'def', 'del', 'elif', 'else', 'except', 'finally', 'for', 'from', 'global', 'if', 'import', 'in', 'is', 'lambda', 'nonlocal', 'not', 'or', 'pass', 'raise', 'return', 'try', 'while', 'with', 'yield']\n"
     ]
    }
   ],
   "source": [
    "#To check keyword list\n",
    "import keyword\n",
    "print(keyword.kwlist)\n",
    "#print(count.kwlist)\n"
   ]
  },
  {
   "cell_type": "code",
   "execution_count": 10,
   "id": "f3a96c01-ba6f-40ed-9eeb-249449bd9991",
   "metadata": {},
   "outputs": [
    {
     "name": "stdout",
     "output_type": "stream",
     "text": [
      "['False', 'None', 'True', 'and', 'as', 'assert', 'async', 'await', 'break', 'class', 'continue', 'def', 'del', 'elif', 'else', 'except', 'finally', 'for', 'from', 'global', 'if', 'import', 'in', 'is', 'lambda', 'nonlocal', 'not', 'or', 'pass', 'raise', 'return', 'try', 'while', 'with', 'yield']\n"
     ]
    }
   ],
   "source": [
    "print(keyword.kwlist)"
   ]
  }
 ],
 "metadata": {
  "kernelspec": {
   "display_name": "Python 3 (ipykernel)",
   "language": "python",
   "name": "python3"
  },
  "language_info": {
   "codemirror_mode": {
    "name": "ipython",
    "version": 3
   },
   "file_extension": ".py",
   "mimetype": "text/x-python",
   "name": "python",
   "nbconvert_exporter": "python",
   "pygments_lexer": "ipython3",
   "version": "3.13.5"
  }
 },
 "nbformat": 4,
 "nbformat_minor": 5
}
