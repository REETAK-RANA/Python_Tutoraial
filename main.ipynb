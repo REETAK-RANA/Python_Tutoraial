{
 "cells": [
  {
   "cell_type": "markdown",
   "id": "fe7ab7e5-1035-43b8-95f2-d8caa4c125a0",
   "metadata": {},
   "source": [
    "# ERROR HANDLING ."
   ]
  },
  {
   "cell_type": "markdown",
   "id": "fa54d5bc-e7cd-40b2-9411-75f944cba920",
   "metadata": {},
   "source": [
    "### Ans. Error handling is a way to gracefully manage unexpected errors that may occur during the execution of a program ."
   ]
  },
  {
   "cell_type": "markdown",
   "id": "fd110485-6f86-473b-9752-1048e06e7383",
   "metadata": {},
   "source": [
    "### error:-\n",
    "    1.syntax error(we can not handle) \n",
    "    and\n",
    "    2.logical error(we can handle):-\n",
    "                                    1.Zero Divison Eroor\n",
    "                                    2.Type Eroor\n",
    "                                    3.Name Eroor\n",
    "                                    4.Value Error\n",
    "                                    5.Index Error\n",
    "                                    6.Key Error\n",
    "                                    7.Indentation Error\n",
    "                                    8.Import Error ."
   ]
  },
  {
   "cell_type": "code",
   "execution_count": 20,
   "id": "f38bbde1-bcc5-40da-ba52-99eff9af94e9",
   "metadata": {},
   "outputs": [
    {
     "ename": "ZeroDivisionError",
     "evalue": "division by zero",
     "output_type": "error",
     "traceback": [
      "\u001b[31m---------------------------------------------------------------------------\u001b[39m",
      "\u001b[31mZeroDivisionError\u001b[39m                         Traceback (most recent call last)",
      "\u001b[36mCell\u001b[39m\u001b[36m \u001b[39m\u001b[32mIn[20]\u001b[39m\u001b[32m, line 2\u001b[39m\n\u001b[32m      1\u001b[39m a = \u001b[32m90\u001b[39m\n\u001b[32m----> \u001b[39m\u001b[32m2\u001b[39m \u001b[38;5;28mprint\u001b[39m(\u001b[43ma\u001b[49m\u001b[43m/\u001b[49m\u001b[32;43m0\u001b[39;49m)\n",
      "\u001b[31mZeroDivisionError\u001b[39m: division by zero"
     ]
    }
   ],
   "source": [
    "a = 90\n",
    "print(a/0)"
   ]
  },
  {
   "cell_type": "code",
   "execution_count": 21,
   "id": "878e7390-3e0d-4a93-aa5c-7cf1ee860b59",
   "metadata": {},
   "outputs": [
    {
     "ename": "NameError",
     "evalue": "name 'r' is not defined",
     "output_type": "error",
     "traceback": [
      "\u001b[31m---------------------------------------------------------------------------\u001b[39m",
      "\u001b[31mNameError\u001b[39m                                 Traceback (most recent call last)",
      "\u001b[36mCell\u001b[39m\u001b[36m \u001b[39m\u001b[32mIn[21]\u001b[39m\u001b[32m, line 2\u001b[39m\n\u001b[32m      1\u001b[39m a=\u001b[32m90\u001b[39m\n\u001b[32m----> \u001b[39m\u001b[32m2\u001b[39m \u001b[38;5;28mprint\u001b[39m(\u001b[43mr\u001b[49m)\n",
      "\u001b[31mNameError\u001b[39m: name 'r' is not defined"
     ]
    }
   ],
   "source": [
    "a=90\n",
    "print(r)"
   ]
  },
  {
   "cell_type": "code",
   "execution_count": 22,
   "id": "937a64cb-f626-4d58-9153-37f306e31250",
   "metadata": {},
   "outputs": [
    {
     "name": "stdin",
     "output_type": "stream",
     "text": [
      " -1\n",
      " 2\n"
     ]
    },
    {
     "ename": "TypeError",
     "evalue": "unsupported operand type(s) for +: 'int' and 'str'",
     "output_type": "error",
     "traceback": [
      "\u001b[31m---------------------------------------------------------------------------\u001b[39m",
      "\u001b[31mTypeError\u001b[39m                                 Traceback (most recent call last)",
      "\u001b[36mCell\u001b[39m\u001b[36m \u001b[39m\u001b[32mIn[22]\u001b[39m\u001b[32m, line 3\u001b[39m\n\u001b[32m      1\u001b[39m a=\u001b[38;5;28mint\u001b[39m(\u001b[38;5;28minput\u001b[39m(\u001b[33m\"\u001b[39m\u001b[33m\"\u001b[39m))\n\u001b[32m      2\u001b[39m b=(\u001b[38;5;28minput\u001b[39m(\u001b[33m\"\u001b[39m\u001b[33m\"\u001b[39m))\n\u001b[32m----> \u001b[39m\u001b[32m3\u001b[39m \u001b[38;5;28mprint\u001b[39m(\u001b[43ma\u001b[49m\u001b[43m+\u001b[49m\u001b[43mb\u001b[49m)\n",
      "\u001b[31mTypeError\u001b[39m: unsupported operand type(s) for +: 'int' and 'str'"
     ]
    }
   ],
   "source": [
    "a=int(input(\"\"))\n",
    "b=(input(\"\"))\n",
    "print(a+b)"
   ]
  },
  {
   "cell_type": "code",
   "execution_count": 24,
   "id": "8aae47dd-c6eb-441f-bb75-c84856d24a8f",
   "metadata": {},
   "outputs": [
    {
     "name": "stdin",
     "output_type": "stream",
     "text": [
      " eded\n"
     ]
    },
    {
     "ename": "ValueError",
     "evalue": "invalid literal for int() with base 10: 'eded'",
     "output_type": "error",
     "traceback": [
      "\u001b[31m---------------------------------------------------------------------------\u001b[39m",
      "\u001b[31mValueError\u001b[39m                                Traceback (most recent call last)",
      "\u001b[36mCell\u001b[39m\u001b[36m \u001b[39m\u001b[32mIn[24]\u001b[39m\u001b[32m, line 1\u001b[39m\n\u001b[32m----> \u001b[39m\u001b[32m1\u001b[39m a=\u001b[38;5;28;43mint\u001b[39;49m\u001b[43m(\u001b[49m\u001b[38;5;28;43minput\u001b[39;49m\u001b[43m(\u001b[49m\u001b[33;43m\"\u001b[39;49m\u001b[33;43m\"\u001b[39;49m\u001b[43m)\u001b[49m\u001b[43m)\u001b[49m\n\u001b[32m      2\u001b[39m \u001b[38;5;28mprint\u001b[39m(a)\n",
      "\u001b[31mValueError\u001b[39m: invalid literal for int() with base 10: 'eded'"
     ]
    }
   ],
   "source": [
    "a=int(input(\"\"))\n",
    "print(a)"
   ]
  },
  {
   "cell_type": "code",
   "execution_count": 26,
   "id": "661b28f0-ec47-4fa7-b6b0-73246306dcb7",
   "metadata": {},
   "outputs": [
    {
     "ename": "IndentationError",
     "evalue": "unexpected indent (1830353523.py, line 2)",
     "output_type": "error",
     "traceback": [
      "  \u001b[36mCell\u001b[39m\u001b[36m \u001b[39m\u001b[32mIn[26]\u001b[39m\u001b[32m, line 2\u001b[39m\n\u001b[31m    \u001b[39m\u001b[31mprint(a)\u001b[39m\n    ^\n\u001b[31mIndentationError\u001b[39m\u001b[31m:\u001b[39m unexpected indent\n"
     ]
    }
   ],
   "source": [
    "a=int(input(\"\"))\n",
    "    print(a)"
   ]
  },
  {
   "cell_type": "code",
   "execution_count": 32,
   "id": "7a3febd9-13f4-4655-a316-e1ccb65eb5cf",
   "metadata": {},
   "outputs": [
    {
     "ename": "KeyError",
     "evalue": "3",
     "output_type": "error",
     "traceback": [
      "\u001b[31m---------------------------------------------------------------------------\u001b[39m",
      "\u001b[31mKeyError\u001b[39m                                  Traceback (most recent call last)",
      "\u001b[36mCell\u001b[39m\u001b[36m \u001b[39m\u001b[32mIn[32]\u001b[39m\u001b[32m, line 2\u001b[39m\n\u001b[32m      1\u001b[39m d={\u001b[32m1\u001b[39m:\u001b[32m4\u001b[39m,\u001b[32m2\u001b[39m:\u001b[32m3\u001b[39m}\n\u001b[32m----> \u001b[39m\u001b[32m2\u001b[39m \u001b[38;5;28mprint\u001b[39m(\u001b[43md\u001b[49m\u001b[43m[\u001b[49m\u001b[32;43m3\u001b[39;49m\u001b[43m]\u001b[49m)\n",
      "\u001b[31mKeyError\u001b[39m: 3"
     ]
    }
   ],
   "source": [
    "d={1:4,2:3}\n",
    "print(d[3])"
   ]
  },
  {
   "cell_type": "code",
   "execution_count": 53,
   "id": "a50c8036-c19b-4530-b906-c17c475fa629",
   "metadata": {},
   "outputs": [
    {
     "name": "stdin",
     "output_type": "stream",
     "text": [
      "enter your age e\n"
     ]
    },
    {
     "name": "stdout",
     "output_type": "stream",
     "text": [
      "some thing went wrong !\n"
     ]
    }
   ],
   "source": [
    "try:\n",
    "    x=int(input(\"enter your age\"))\n",
    "    if x<=0:\n",
    "        print(\" 404 error , age cannot be zero or negative\")\n",
    "    if x>=18:\n",
    "        print(\" you are aligible for Test\")\n",
    "    else :\n",
    "        print(\"you are not eligibal\")\n",
    "except (ValueError) as e:\n",
    "    print(\"some thing went wrong !\")"
   ]
  },
  {
   "cell_type": "code",
   "execution_count": 55,
   "id": "dd2a4cb6-6dea-4f81-a888-543489511368",
   "metadata": {},
   "outputs": [
    {
     "name": "stdin",
     "output_type": "stream",
     "text": [
      "enter a number: ss\n"
     ]
    },
    {
     "name": "stdout",
     "output_type": "stream",
     "text": [
      "404 error\n",
      "something went wrong !\n"
     ]
    }
   ],
   "source": [
    "try:\n",
    "    a=int(input('enter a number:'))\n",
    "    if a>0:\n",
    "        print(\"yes\")\n",
    "    if a==0:\n",
    "        print(\" not req \")\n",
    "    else:\n",
    "        print(\"no\")\n",
    "except (ValueError) as e:\n",
    "    print(\"404 error\")   \n",
    "finally :\n",
    "    print(\"something went wrong !\")     "
   ]
  },
  {
   "cell_type": "code",
   "execution_count": 56,
   "id": "60c9bc3a-0d46-4ae7-bd93-0691cce7b09c",
   "metadata": {},
   "outputs": [
    {
     "name": "stdin",
     "output_type": "stream",
     "text": [
      "enter a number: s\n"
     ]
    },
    {
     "name": "stdout",
     "output_type": "stream",
     "text": [
      "404 error\n",
      "something went wrong !\n"
     ]
    }
   ],
   "source": [
    "try:\n",
    "     var=int(input(\"enter a number:\"))\n",
    "     print(var)\n",
    "    \n",
    "except ValueError:print(\"404 error\")\n",
    "finally:\n",
    "     print(\"something went wrong !\")"
   ]
  },
  {
   "cell_type": "code",
   "execution_count": 57,
   "id": "08f694d2-8388-4930-96b2-9a3f60df1bc7",
   "metadata": {},
   "outputs": [
    {
     "name": "stdin",
     "output_type": "stream",
     "text": [
      "enter a digit: ssd\n"
     ]
    },
    {
     "name": "stdout",
     "output_type": "stream",
     "text": [
      "Enter a valid number!\n",
      "Execution complete.\n"
     ]
    }
   ],
   "source": [
    "try:\n",
    "    n=int(input(\"enter a digit:\"))\n",
    "    b=int(input(\"enter a digit:\"))\n",
    "    result = n/b\n",
    "    \n",
    "except ZeroDivisionError:\n",
    "    print(\"You can't divide by zero!\")\n",
    "    \n",
    "except ValueError:\n",
    "    print(\"Enter a valid number!\")\n",
    "    \n",
    "else:\n",
    "    print(\"Result is\", result)\n",
    "    \n",
    "finally:\n",
    "    print(\"Execution complete.\")"
   ]
  },
  {
   "cell_type": "markdown",
   "id": "8fedc667-df34-4da6-8c32-bbb50a73aaca",
   "metadata": {},
   "source": [
    "###  Exception handling :"
   ]
  },
  {
   "cell_type": "markdown",
   "id": "423febdb-63ad-4d6f-b378-b8252af7ec39",
   "metadata": {},
   "source": [
    "### Ans. Python Exception Handling handles errors that occur during the execution of a program. Exception handling allows to respond to the error, instead of crashing the running program ."
   ]
  },
  {
   "cell_type": "code",
   "execution_count": 58,
   "id": "0a9f1770-e7de-49ea-9c35-b435a49df6d2",
   "metadata": {},
   "outputs": [
    {
     "name": "stdout",
     "output_type": "stream",
     "text": [
      "Can't be divided by zero!\n"
     ]
    }
   ],
   "source": [
    "n = 10\n",
    "try:\n",
    "    res = n / 0  \n",
    "    \n",
    "except ZeroDivisionError:\n",
    "    print(\"Can't be divided by zero!\")"
   ]
  }
 ],
 "metadata": {
  "kernelspec": {
   "display_name": "Python 3 (ipykernel)",
   "language": "python",
   "name": "python3"
  },
  "language_info": {
   "codemirror_mode": {
    "name": "ipython",
    "version": 3
   },
   "file_extension": ".py",
   "mimetype": "text/x-python",
   "name": "python",
   "nbconvert_exporter": "python",
   "pygments_lexer": "ipython3",
   "version": "3.13.5"
  }
 },
 "nbformat": 4,
 "nbformat_minor": 5
}
