{
 "cells": [
  {
   "cell_type": "markdown",
   "id": "57a56e73-a4d8-40a6-b2b6-e0ecdc51823a",
   "metadata": {},
   "source": [
    "## INTRO REGARDING PYTHON LANGUAGE :"
   ]
  },
  {
   "cell_type": "markdown",
   "id": "7ef40532-3e5d-44e6-959f-c01e1b6d565c",
   "metadata": {},
   "source": [
    "### 1. What is Python?\n",
    "\n",
    "Python is a popular programming language. It was created by Guido van Rossum, and released in 1991.\n",
    "\n",
    "It is used for :\n",
    "\n",
    "             1.web development (server-side).\n",
    "             2.software development.\n",
    "             3.mathematics.\n",
    "             4. system scripting."
   ]
  },
  {
   "cell_type": "markdown",
   "id": "107270ea-ee79-4517-b99c-5a1982ad334a",
   "metadata": {},
   "source": [
    "### 2. What can Python do?\n",
    "\n",
    "    1.Python can be used on a server to create web applications.\n",
    "    2.Python can be used alongside software to create workflows.\n",
    "    3.Python can connect to database systems. It can also read and modify files.\n",
    "    4.Python can be used to handle big data and perform complex mathematics.\n",
    "    5.Python can be used for rapid prototyping, or for production-ready software development.\n"
   ]
  },
  {
   "cell_type": "markdown",
   "id": "a1de32ca-2555-46a2-b6ed-986674d29ad7",
   "metadata": {},
   "source": [
    "### 3. Python Syntax compared to other programming languages ?\n",
    "\n",
    "     1 Python was designed for readability, and has some similarities to the English language with influence from mathematics.\n",
    "     2.Python uses new lines to complete a command, as opposed to other programming languages which often use semicolons or parentheses.\n",
    "     3.Python relies on indentation, using whitespace, to define scope; such as the scope of loops, functions and classes. \n"
   ]
  },
  {
   "cell_type": "markdown",
   "id": "1b26fa0f-a44d-4ff8-920a-a0dbc4476461",
   "metadata": {},
   "source": [
    "### 4. Basic syntax or first program of python language ."
   ]
  },
  {
   "cell_type": "code",
   "execution_count": 4,
   "id": "562cb091-1781-4eaf-911b-8309cab06002",
   "metadata": {},
   "outputs": [
    {
     "name": "stdout",
     "output_type": "stream",
     "text": [
      "Hello this is my first program\n"
     ]
    }
   ],
   "source": [
    "print('Hello this is my first program')"
   ]
  },
  {
   "cell_type": "code",
   "execution_count": 7,
   "id": "d5acce8e-b184-437f-97be-ef3bdf41362e",
   "metadata": {},
   "outputs": [
    {
     "name": "stdout",
     "output_type": "stream",
     "text": [
      "Hello my name is Reetak\n"
     ]
    }
   ],
   "source": [
    "print('Hello my name is Reetak')"
   ]
  },
  {
   "cell_type": "code",
   "execution_count": 8,
   "id": "9b2ed8d5-7465-4c40-917b-367e86c8dc32",
   "metadata": {},
   "outputs": [
    {
     "name": "stdout",
     "output_type": "stream",
     "text": [
      "5\n"
     ]
    }
   ],
   "source": [
    "a=2\n",
    "b=3\n",
    "c=a+b\n",
    "print(c)"
   ]
  },
  {
   "cell_type": "markdown",
   "id": "87ac707b-e7f6-4666-a16d-493019a1192f",
   "metadata": {},
   "source": [
    "## COMMENTS :"
   ]
  },
  {
   "cell_type": "markdown",
   "id": "1786f69d-98bc-490e-9acf-2fd147bda91c",
   "metadata": {},
   "source": [
    "### 1. Some points about comments ?\n",
    " \n",
    "    1.Comments can be used to explain Python code.\n",
    "    2.Comments can be used to make the code more readable.\n",
    "    3.Comments can be used to prevent execution when testing code.\n",
    "\n"
   ]
  },
  {
   "cell_type": "markdown",
   "id": "ef02aedd-f2f2-461c-8a76-8f38b9b7c524",
   "metadata": {},
   "source": [
    "## 2. Singleline Comments :\n",
    " \n",
    "      1.Python does not really have a syntax for singleline comments.\n",
    "      2.To add a comment you could insert a # for single line only :"
   ]
  },
  {
   "cell_type": "code",
   "execution_count": 10,
   "id": "ccc37cdb-468c-45f5-b482-c943c6a566d2",
   "metadata": {},
   "outputs": [
    {
     "name": "stdout",
     "output_type": "stream",
     "text": [
      "hello\n"
     ]
    }
   ],
   "source": [
    "# this is a comment\n",
    "print(\"hello\")"
   ]
  },
  {
   "cell_type": "code",
   "execution_count": 11,
   "id": "db6fcfea-b173-413d-93ad-b1d58d41857d",
   "metadata": {},
   "outputs": [
    {
     "name": "stdout",
     "output_type": "stream",
     "text": [
      "12\n"
     ]
    }
   ],
   "source": [
    "# sum of two numbers\n",
    "a=10\n",
    "b=2\n",
    "c=a+b\n",
    "print(c)"
   ]
  },
  {
   "cell_type": "markdown",
   "id": "70122aff-9064-4e1b-a28e-35db85ba61f4",
   "metadata": {},
   "source": [
    "### 3. Multiline Comments :\n",
    "\n",
    "      1.Python does not really have a syntax for multiline comments.\n",
    "      2.To add a multiline comment you could insert a # for each line or may simply add \"\"\" this is multiline comment \"\"\" ."
   ]
  },
  {
   "cell_type": "code",
   "execution_count": 12,
   "id": "f47e73c9-ddfa-4e1e-9e0d-44df7d702e51",
   "metadata": {},
   "outputs": [
    {
     "name": "stdout",
     "output_type": "stream",
     "text": [
      "Hello, World!\n"
     ]
    }
   ],
   "source": [
    "#This is a comment\n",
    "#written in\n",
    "#more than just one line\n",
    "print(\"Hello, World!\")"
   ]
  },
  {
   "cell_type": "code",
   "execution_count": 13,
   "id": "9824e60e-a476-4a93-9580-5aedb91353d2",
   "metadata": {},
   "outputs": [
    {
     "name": "stdout",
     "output_type": "stream",
     "text": [
      "hello\n"
     ]
    }
   ],
   "source": [
    "\"\"\" this \n",
    "   is an \n",
    "   comment\"\"\"\n",
    "print('hello')"
   ]
  },
  {
   "cell_type": "code",
   "execution_count": null,
   "id": "96057005-616f-4ea7-9318-06d03c64740a",
   "metadata": {},
   "outputs": [],
   "source": []
  }
 ],
 "metadata": {
  "kernelspec": {
   "display_name": "Python 3 (ipykernel)",
   "language": "python",
   "name": "python3"
  },
  "language_info": {
   "codemirror_mode": {
    "name": "ipython",
    "version": 3
   },
   "file_extension": ".py",
   "mimetype": "text/x-python",
   "name": "python",
   "nbconvert_exporter": "python",
   "pygments_lexer": "ipython3",
   "version": "3.13.5"
  }
 },
 "nbformat": 4,
 "nbformat_minor": 5
}
